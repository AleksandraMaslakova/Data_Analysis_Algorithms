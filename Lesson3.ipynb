{
  "nbformat": 4,
  "nbformat_minor": 0,
  "metadata": {
    "colab": {
      "provenance": []
    },
    "kernelspec": {
      "name": "python3",
      "display_name": "Python 3"
    },
    "language_info": {
      "name": "python"
    }
  },
  "cells": [
    {
      "cell_type": "markdown",
      "source": [
        "# Урок 3. Классификация. Логистическая регрессия."
      ],
      "metadata": {
        "id": "HSK8xTma-f4e"
      }
    },
    {
      "cell_type": "code",
      "execution_count": 1,
      "metadata": {
        "id": "P96oapal-e7T"
      },
      "outputs": [],
      "source": [
        "import numpy as np\n",
        "import warnings\n",
        "warnings.filterwarnings('ignore')"
      ]
    },
    {
      "cell_type": "code",
      "source": [
        "X = np.array([[1, 1, 500, 1],\n",
        "              [1, 1, 700, 1],\n",
        "              [1, 2, 750, 2],\n",
        "              [1, 5, 600, 1],\n",
        "              [1, 3, 1450, 2],\n",
        "              [1, 0, 800, 1],\n",
        "              [1, 5, 1500, 3],\n",
        "              [1, 10, 2000, 3],\n",
        "              [1, 1, 450, 1],\n",
        "              [1, 2, 1000, 2]], dtype = np.float64)\n",
        "\n",
        "y = np.array([0, 0, 1, 0, 1, 0, 1, 0, 1, 1])"
      ],
      "metadata": {
        "id": "DZsYwQ2N-00b"
      },
      "execution_count": 3,
      "outputs": []
    },
    {
      "cell_type": "code",
      "source": [
        "def standart_scale(X):\n",
        "  mean = X.mean(axis = 0)\n",
        "  std = X.std(axis = 0)\n",
        "  return(X - mean) / std"
      ],
      "metadata": {
        "id": "-o2Ksdr2APA6"
      },
      "execution_count": 4,
      "outputs": []
    },
    {
      "cell_type": "code",
      "source": [
        "X_st = X.copy().astype(np.float64)\n",
        "X_st[:, 1:4] = standart_scale(X_st[:, 1:4])\n",
        "X_st"
      ],
      "metadata": {
        "colab": {
          "base_uri": "https://localhost:8080/"
        },
        "id": "dGTaeGDvAnsv",
        "outputId": "8e5d42f6-0697-4609-b8fb-2aa65b8e48ad"
      },
      "execution_count": 5,
      "outputs": [
        {
          "output_type": "execute_result",
          "data": {
            "text/plain": [
              "array([[ 1.        , -0.70710678, -0.97958969, -0.89625816],\n",
              "       [ 1.        , -0.70710678, -0.56713087, -0.89625816],\n",
              "       [ 1.        , -0.35355339, -0.46401617,  0.38411064],\n",
              "       [ 1.        ,  0.70710678, -0.77336028, -0.89625816],\n",
              "       [ 1.        ,  0.        ,  0.97958969,  0.38411064],\n",
              "       [ 1.        , -1.06066017, -0.36090146, -0.89625816],\n",
              "       [ 1.        ,  0.70710678,  1.08270439,  1.66447944],\n",
              "       [ 1.        ,  2.47487373,  2.11385144,  1.66447944],\n",
              "       [ 1.        , -0.70710678, -1.08270439, -0.89625816],\n",
              "       [ 1.        , -0.35355339,  0.05155735,  0.38411064]])"
            ]
          },
          "metadata": {},
          "execution_count": 5
        }
      ]
    },
    {
      "cell_type": "markdown",
      "source": [
        "1. *Измените функцию calc_logloss так, чтобы нули по возможности не попадали в np.log."
      ],
      "metadata": {
        "id": "_eJfQtqPBKi8"
      }
    },
    {
      "cell_type": "code",
      "source": [
        "def calc_logloss(y, y_pred):\n",
        "    err = 0\n",
        "    for i in range(len(y)):\n",
        "        if y_pred[i] == 0:\n",
        "            err += (1.0 - y[i]) * np.log(1.0 - y_pred[i])\n",
        "        elif y_pred[i] == 1:\n",
        "            err += y[i] * np.log(y_pred[i])\n",
        "        else:\n",
        "            err += y[i] * np.log(y_pred[i]) + (1.0 - y[i]) * np.log(1.0 - y_pred[i])\n",
        "    return - err / len(y)"
      ],
      "metadata": {
        "id": "2fzJUXnOBQJH"
      },
      "execution_count": 6,
      "outputs": []
    },
    {
      "cell_type": "code",
      "source": [
        "y1 = np.array([1, 0])\n",
        "y_pred1 = np.array([0.9, 0])\n",
        "calc_logloss(y1, y_pred1)"
      ],
      "metadata": {
        "colab": {
          "base_uri": "https://localhost:8080/"
        },
        "id": "Udhj-gOEBbt3",
        "outputId": "92bfe6ac-88ca-4ac9-db1e-fae7b864a638"
      },
      "execution_count": 7,
      "outputs": [
        {
          "output_type": "execute_result",
          "data": {
            "text/plain": [
              "0.05268025782891314"
            ]
          },
          "metadata": {},
          "execution_count": 7
        }
      ]
    },
    {
      "cell_type": "code",
      "source": [
        "y1 = np.array([1, 0])\n",
        "y_pred1 = np.array([1, 0.1])\n",
        "calc_logloss(y1, y_pred1)"
      ],
      "metadata": {
        "colab": {
          "base_uri": "https://localhost:8080/"
        },
        "id": "OIZjSynhBhcm",
        "outputId": "568d093b-53ff-4d33-8c8f-30df63dc7b98"
      },
      "execution_count": 8,
      "outputs": [
        {
          "output_type": "execute_result",
          "data": {
            "text/plain": [
              "0.05268025782891314"
            ]
          },
          "metadata": {},
          "execution_count": 8
        }
      ]
    },
    {
      "cell_type": "code",
      "source": [
        "y1 = np.array([1, 0])\n",
        "y_pred1 = np.array([0.9, 0.1])\n",
        "calc_logloss(y1, y_pred1)"
      ],
      "metadata": {
        "colab": {
          "base_uri": "https://localhost:8080/"
        },
        "id": "Wuqx7r_nBn0u",
        "outputId": "6c4fa833-0be5-4009-cf2d-7122267e1818"
      },
      "execution_count": 9,
      "outputs": [
        {
          "output_type": "execute_result",
          "data": {
            "text/plain": [
              "0.10536051565782628"
            ]
          },
          "metadata": {},
          "execution_count": 9
        }
      ]
    },
    {
      "cell_type": "markdown",
      "source": [
        "2. Подберите аргументы функции eval_model для логистической регрессии таким образом, чтобы log loss был минимальным."
      ],
      "metadata": {
        "id": "wiZsN8kOBtHN"
      }
    },
    {
      "cell_type": "code",
      "source": [
        "def sigmoid(z):\n",
        "    res = 1 / (1 + np.exp(-z))\n",
        "    return res"
      ],
      "metadata": {
        "id": "GtvHx_QGBwOP"
      },
      "execution_count": 10,
      "outputs": []
    },
    {
      "cell_type": "code",
      "source": [
        "def eval_model(X, y, iterations, eta=1e-4):\n",
        "    np.random.seed(42)\n",
        "    W = np.random.randn(X.shape[1])\n",
        "    n = X.shape[0]\n",
        "    \n",
        "    for i in range(iterations):\n",
        "        z = np.dot(X, W)\n",
        "        y_pred = sigmoid(z)\n",
        "        err = calc_logloss(y, y_pred)\n",
        "        \n",
        "        dQ = 1/n * X.T @ (y_pred - y)\n",
        "        W -= eta * dQ\n",
        "        if i % (iterations / 10) == 0:\n",
        "            print(i, W, err)\n",
        "            \n",
        "    final_error = calc_logloss(y, y_pred)\n",
        "    return W, final_error"
      ],
      "metadata": {
        "id": "GHpg6kijB5TP"
      },
      "execution_count": 11,
      "outputs": []
    },
    {
      "cell_type": "code",
      "source": [
        "W, error = eval_model(X_st, y, iterations=100, eta=1)"
      ],
      "metadata": {
        "colab": {
          "base_uri": "https://localhost:8080/"
        },
        "id": "8HafFzToB-9v",
        "outputId": "6a9d3317-8f85-47a5-98b8-b27cf7e7b2c7"
      },
      "execution_count": 12,
      "outputs": [
        {
          "output_type": "stream",
          "name": "stdout",
          "text": [
            "0 [ 0.46121499 -0.40908382  0.41426183  1.39855008] 0.760958797591889\n",
            "10 [ 0.0387634  -1.30386446 -0.15001914  1.74758184] 0.4254600283700163\n",
            "20 [-0.01161527 -1.64023671 -0.31196552  2.27533881] 0.38108858271134755\n",
            "30 [-0.01156172 -1.88360488 -0.46035705  2.69723081] 0.3542235298084087\n",
            "40 [ 9.33444488e-04 -2.07189803e+00 -5.97280973e-01  3.05064764e+00] 0.3358002141655348\n",
            "50 [ 0.01934395 -2.22448855 -0.72422385  3.35653644] 0.3221745410588311\n",
            "60 [ 0.04127542 -2.35245169 -0.84255667  3.6277315 ] 0.3115442516500474\n",
            "70 [ 0.06539266 -2.46266676 -0.95347146  3.87262358] 0.3029143996576552\n",
            "80 [ 0.090846   -2.55967079 -1.05796576  4.09697143] 0.2956909276718162\n",
            "90 [ 0.11707191 -2.64659092 -1.15686395  4.30488038] 0.28949721467181433\n"
          ]
        }
      ]
    },
    {
      "cell_type": "markdown",
      "source": [
        "3. Создайте функцию calc_pred_proba, возвращающую предсказанную вероятность класса 1 (на вход подаются W, который уже посчитан функцией eval_model и X, на выходе - массив y_pred_proba)."
      ],
      "metadata": {
        "id": "9m18anMqCYbZ"
      }
    },
    {
      "cell_type": "code",
      "source": [
        "def calc_pred_proba(W, X):\n",
        "    y_pred_proba = sigmoid(np.dot(X, W))\n",
        "    return y_pred_proba"
      ],
      "metadata": {
        "id": "1jmB-8xXCZu1"
      },
      "execution_count": 13,
      "outputs": []
    },
    {
      "cell_type": "code",
      "source": [
        "calc_pred_proba(W, X_st)"
      ],
      "metadata": {
        "colab": {
          "base_uri": "https://localhost:8080/"
        },
        "id": "robPI1tMCeqM",
        "outputId": "b190c9e7-64b9-42dc-e6d0-70a138707d60"
      },
      "execution_count": 14,
      "outputs": [
        {
          "output_type": "execute_result",
          "data": {
            "text/plain": [
              "array([0.32380055, 0.22296142, 0.96767742, 0.00787362, 0.65604029,\n",
              "       0.36735518, 0.98703363, 0.14768606, 0.35244079, 0.94041789])"
            ]
          },
          "metadata": {},
          "execution_count": 14
        }
      ]
    },
    {
      "cell_type": "markdown",
      "source": [
        "4. Создайте функцию calc_pred, возвращающую предсказанный класс (на вход подаются W, который уже посчитан функцией eval_model и X, на выходе - массив y_pred)."
      ],
      "metadata": {
        "id": "uaThqUIlCi3z"
      }
    },
    {
      "cell_type": "code",
      "source": [
        "def calc_pred(W, X):\n",
        "    y_pred_proba = calc_pred_proba(W, X)\n",
        "    y_pred = np.where(y_pred_proba > 0.5, 1, 0)\n",
        "    return y_pred"
      ],
      "metadata": {
        "id": "b3Ck2cvVCpgN"
      },
      "execution_count": 15,
      "outputs": []
    },
    {
      "cell_type": "code",
      "source": [
        "pred = calc_pred(W, X_st)\n",
        "pred"
      ],
      "metadata": {
        "colab": {
          "base_uri": "https://localhost:8080/"
        },
        "id": "Fc_wDzOGCw27",
        "outputId": "1ff5f832-769c-45bd-c868-94b4482b6d29"
      },
      "execution_count": 16,
      "outputs": [
        {
          "output_type": "execute_result",
          "data": {
            "text/plain": [
              "array([0, 0, 1, 0, 1, 0, 1, 0, 0, 1])"
            ]
          },
          "metadata": {},
          "execution_count": 16
        }
      ]
    },
    {
      "cell_type": "markdown",
      "source": [
        "5. *Реализуйте функции для подсчета Accuracy, матрицы ошибок, точности и полноты, а также F1 score."
      ],
      "metadata": {
        "id": "5pgi9ZmKC2sD"
      }
    },
    {
      "cell_type": "code",
      "source": [
        "def accuracy(y, y_pred):\n",
        "    accuracy = np.mean(y == y_pred)\n",
        "    return accuracy"
      ],
      "metadata": {
        "id": "PQ72kAVlC0Xy"
      },
      "execution_count": 17,
      "outputs": []
    },
    {
      "cell_type": "code",
      "source": [
        "print(f'True \\t  {y}')\n",
        "print(f'Predicted {pred}')"
      ],
      "metadata": {
        "colab": {
          "base_uri": "https://localhost:8080/"
        },
        "id": "308JzT9yC-fE",
        "outputId": "a3f905a7-8e45-40a7-d30c-6aac826fd83f"
      },
      "execution_count": 18,
      "outputs": [
        {
          "output_type": "stream",
          "name": "stdout",
          "text": [
            "True \t  [0 0 1 0 1 0 1 0 1 1]\n",
            "Predicted [0 0 1 0 1 0 1 0 0 1]\n"
          ]
        }
      ]
    },
    {
      "cell_type": "code",
      "source": [
        "accuracy(y, pred)"
      ],
      "metadata": {
        "colab": {
          "base_uri": "https://localhost:8080/"
        },
        "id": "KX5N3xnyDIXc",
        "outputId": "006bf8df-c62a-4ebb-e9d5-ef0a79d1803f"
      },
      "execution_count": 19,
      "outputs": [
        {
          "output_type": "execute_result",
          "data": {
            "text/plain": [
              "0.9"
            ]
          },
          "metadata": {},
          "execution_count": 19
        }
      ]
    },
    {
      "cell_type": "code",
      "source": [
        "def confusion_matrix(y, y_pred):\n",
        "    cm = np.zeros((2, 2))\n",
        "    for i in range(len(y)): \n",
        "        if y[i] == y_pred[i] == 1: #TP\n",
        "            cm[0][0] += 1\n",
        "        elif y[i] == y_pred[i] == 0: #TN\n",
        "            cm[1][1] += 1\n",
        "        elif y[i] != y_pred[i] and y[i] == 1: #FN\n",
        "            cm[1][0] += 1\n",
        "        elif y[i] != y_pred[i] and y[i] == 0: #FP\n",
        "            cm[0][1] += 1\n",
        "    return cm"
      ],
      "metadata": {
        "id": "40MmImAVDRUs"
      },
      "execution_count": 21,
      "outputs": []
    },
    {
      "cell_type": "code",
      "source": [
        "cm = confusion_matrix(y, pred)\n",
        "cm"
      ],
      "metadata": {
        "colab": {
          "base_uri": "https://localhost:8080/"
        },
        "id": "fupzahOFDYKC",
        "outputId": "ad2f3b6b-2a63-4fdf-b7de-6894171cfaf8"
      },
      "execution_count": 22,
      "outputs": [
        {
          "output_type": "execute_result",
          "data": {
            "text/plain": [
              "array([[4., 0.],\n",
              "       [1., 5.]])"
            ]
          },
          "metadata": {},
          "execution_count": 22
        }
      ]
    },
    {
      "cell_type": "code",
      "source": [
        "def precision(y, y_pred):\n",
        "    cm = confusion_matrix(y, y_pred)\n",
        "    TP = cm[0][0]\n",
        "    TN = cm[1][1]\n",
        "    FP = cm[0][1]\n",
        "    FN = cm[1][0]\n",
        "    precision = TP / (TP + FP)\n",
        "    return precision"
      ],
      "metadata": {
        "id": "WFNi_OJqDfWs"
      },
      "execution_count": 23,
      "outputs": []
    },
    {
      "cell_type": "code",
      "source": [
        "precision(y, pred)"
      ],
      "metadata": {
        "colab": {
          "base_uri": "https://localhost:8080/"
        },
        "id": "OfJop5OKDhMh",
        "outputId": "60c6b54c-f78b-44c0-8d03-34ad87be6df0"
      },
      "execution_count": 24,
      "outputs": [
        {
          "output_type": "execute_result",
          "data": {
            "text/plain": [
              "1.0"
            ]
          },
          "metadata": {},
          "execution_count": 24
        }
      ]
    },
    {
      "cell_type": "code",
      "source": [
        "def recall(y, y_pred):\n",
        "    cm = confusion_matrix(y, y_pred)\n",
        "    TP = cm[0][0]\n",
        "    TN = cm[1][1]\n",
        "    FP = cm[0][1]\n",
        "    FN = cm[1][0]\n",
        "    recall = TP / (TP + FN)\n",
        "    return recall"
      ],
      "metadata": {
        "id": "B3yobYCODmai"
      },
      "execution_count": 25,
      "outputs": []
    },
    {
      "cell_type": "code",
      "source": [
        "recall(y, pred)"
      ],
      "metadata": {
        "colab": {
          "base_uri": "https://localhost:8080/"
        },
        "id": "H85WPijaDpsQ",
        "outputId": "f6ab20c9-667e-4eef-96b4-f429971a2b76"
      },
      "execution_count": 26,
      "outputs": [
        {
          "output_type": "execute_result",
          "data": {
            "text/plain": [
              "0.8"
            ]
          },
          "metadata": {},
          "execution_count": 26
        }
      ]
    },
    {
      "cell_type": "code",
      "source": [
        "def f_score(y, y_pred):\n",
        "    pr = precision(y, y_pred)\n",
        "    rec = recall(y, y_pred)\n",
        "    f_score = 2 * pr * rec / (pr + rec)\n",
        "    return f_score"
      ],
      "metadata": {
        "id": "b0o-tVQbDyZ9"
      },
      "execution_count": 27,
      "outputs": []
    },
    {
      "cell_type": "code",
      "source": [
        "f_score(y, pred)"
      ],
      "metadata": {
        "colab": {
          "base_uri": "https://localhost:8080/"
        },
        "id": "4jINcA-rD0aw",
        "outputId": "1c2821f8-e202-481b-fb62-4db85c8e5011"
      },
      "execution_count": 28,
      "outputs": [
        {
          "output_type": "execute_result",
          "data": {
            "text/plain": [
              "0.888888888888889"
            ]
          },
          "metadata": {},
          "execution_count": 28
        }
      ]
    },
    {
      "cell_type": "code",
      "source": [
        "from sklearn.metrics import accuracy_score, precision_score, recall_score, f1_score, confusion_matrix\n",
        "\n",
        "\n",
        "print(f'accuracy {accuracy_score(y, pred)}')\n",
        "print(f'precision {precision_score(y, pred)}')\n",
        "print(f'recall {recall_score(y, pred)}')\n",
        "print(f'f-score {f1_score(y, pred)}')\n",
        "print(f'\\n {confusion_matrix(y, pred)}')"
      ],
      "metadata": {
        "colab": {
          "base_uri": "https://localhost:8080/"
        },
        "id": "ZTHVaKroD3Z3",
        "outputId": "60b41f03-3b7d-4be0-aeb3-0af7bb2d304b"
      },
      "execution_count": 29,
      "outputs": [
        {
          "output_type": "stream",
          "name": "stdout",
          "text": [
            "accuracy 0.9\n",
            "precision 1.0\n",
            "recall 0.8\n",
            "f-score 0.888888888888889\n",
            "\n",
            " [[5 0]\n",
            " [1 4]]\n"
          ]
        }
      ]
    },
    {
      "cell_type": "markdown",
      "source": [
        "6. Могла ли модель переобучиться? Почему?"
      ],
      "metadata": {
        "id": "ffh00kypD-Gr"
      }
    },
    {
      "cell_type": "markdown",
      "source": [
        "Могла. В данном случае из-за маленькой выборки и большого кол-ва итераций. Из-за специфики логист. регрессии она склонна к переобучению."
      ],
      "metadata": {
        "id": "R6q4v9bqE4xY"
      }
    },
    {
      "cell_type": "code",
      "source": [],
      "metadata": {
        "id": "OUeJCwYmE8CL"
      },
      "execution_count": null,
      "outputs": []
    }
  ]
}